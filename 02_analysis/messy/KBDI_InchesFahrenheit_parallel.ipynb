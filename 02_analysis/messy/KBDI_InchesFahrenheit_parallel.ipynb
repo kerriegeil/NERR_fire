{
 "cells": [
  {
   "cell_type": "raw",
   "id": "c84c157e-82c5-4028-9cb9-4084f231216c",
   "metadata": {},
   "source": [
    "Written By: kerrie geil\n",
    "Original Development Date: May 2025\n",
    "Package Requirements: xarray, numpy, pandas, bottleneck, matplotlib\n",
    "Description: Coding up KBDI for the first time using obs. The plan is to create a function out of this and put it in a .py script that I can load into other notebooks/scripts"
   ]
  },
  {
   "cell_type": "markdown",
   "id": "f2bab5cf-691a-4a9a-b132-4ffbc85ff245",
   "metadata": {},
   "source": [
    "# Literature Sources for the Equations\n",
    "\n",
    "[WSL Swiss Federal Institute for Forest, Snow, and Landscape Research Fire Weather Indices Wiki](https://wikifire.wsl.ch/tiki-index908f.html?page=Keetch-Byram+drought+index#:~:text=Formula,Keetch%20and%20Byram%20(1968).)\n",
    "\n",
    "[Alexander, 1990: Computer calculation of the Keetch-Byram drought index - programmers beware](https://people.atmos.ucla.edu/ycao/papers/Computer%20Calculation%20of%20the%20Keetch-Byram%20Drought%20Index-Programmers%20Beware!.pdf)\n",
    "\n",
    "[Keetch and Byram, 1968: A drought index for forest fire control, USDA FSRP SE-38](https://research.fs.usda.gov/treesearch/40)\n",
    "\n",
    "[Wildland Fire Assessment System](https://www.wfas.net/index.php?option=com_content&view=article&id=86&Itemid=487#:~:text=Keetch%20and%20Byram%20(1968)%20designed,duff%20and%20upper%20soil%20layers.)"
   ]
  },
  {
   "cell_type": "code",
   "execution_count": null,
   "id": "b4520e6f-87d2-48a2-b74d-1f8acdca7abc",
   "metadata": {},
   "outputs": [],
   "source": [
    "import xarray as xr\n",
    "import numpy as np\n",
    "import pandas as pd\n",
    "\n",
    "import dask\n",
    "import dask.array as da\n",
    "\n",
    "import matplotlib.pyplot as plt"
   ]
  },
  {
   "cell_type": "code",
   "execution_count": null,
   "id": "402ce234-9976-4fd1-9035-a4df6b1f94d1",
   "metadata": {},
   "outputs": [],
   "source": [
    "# file paths\n",
    "pr_file = r'D://data/nclimgrid_daily/prcp_nClimGridDaily_1951-2024_USsouth.nc'\n",
    "tmax_file = r'D://data/nclimgrid_daily/tmax_nClimGridDaily_1951-2024_USsouth.nc'\n",
    "\n",
    "# pr_file = r'E://data/nclimgrid_daily/prcp_nClimGridDaily_1951-2024_USsouth.nc'\n",
    "# tmax_file = r'E://data/nclimgrid_daily/tmax_nClimGridDaily_1951-2024_USsouth.nc'"
   ]
  },
  {
   "cell_type": "code",
   "execution_count": null,
   "id": "c4762cd0-e410-4683-a543-658e40873c25",
   "metadata": {},
   "outputs": [],
   "source": [
    "# parallelization\n",
    "chunks = {'time':-1,'lat':100,'lon':100}"
   ]
  },
  {
   "cell_type": "markdown",
   "id": "408f6666-4a2b-4920-b288-b578f45cbe5f",
   "metadata": {},
   "source": [
    "# Steps (starting with single cell calculation)\n",
    "\n",
    "1) KBDI initialization: find the starting day of the calculation\n",
    "    - find when the running sum of precip over a 1 week period is at least 152mm (6 inches)\n",
    "    - the starting day for calculating KBDI is the next day\n",
    "2) calculate the number of consecutive days with rain (rr) for the whole timeseries so we can accurately calculate Pnet\n",
    "3) calculate Pnet at each time using the description in Keetch and Byram\n",
    "4) calculate Q of t0 using KBDI of t-1 = 0\n",
    "5) calculate KBDI"
   ]
  },
  {
   "cell_type": "markdown",
   "id": "f43c1cf6-17cd-4328-a2b3-902f3f172cf7",
   "metadata": {},
   "source": [
    "# 1) KBDI Initialization date\n",
    "\n",
    "Finding the first possible day at each grid where we can set the initial value of KBDI to zero. This requires a preceding wet period where at least 152mm/6inches of precip falls with 1 week."
   ]
  },
  {
   "cell_type": "code",
   "execution_count": null,
   "id": "63544bf3-ff78-42e0-95d1-3eb5728c4fdd",
   "metadata": {},
   "outputs": [],
   "source": [
    "# lazy load precip data in chunks, limit precision per metadata, and convert units\n",
    "\n",
    "year_start='1951'\n",
    "year_end='1960'\n",
    "# lat = 32\n",
    "# lon = -90\n",
    "\n",
    "# pr=xr.open_dataset(pr_file).prcp.sel(time=slice(year_start,year_end)).sel(lat=lat,lon=lon, method='nearest').round(2).load()\n",
    "pr=xr.open_dataset(pr_file, chunks=chunks)#.prcp.sel(time=slice(year_start,year_end)).round(2)\n",
    "\n",
    "# pr = pr / 25.4\n",
    "# pr_attrs = {'standard_name':'precipitation','long_name':'Precipitation, daily total','units':'inches/day'}\n",
    "# pr.attrs = pr_attrs\n",
    "\n",
    "pr"
   ]
  },
  {
   "cell_type": "code",
   "execution_count": null,
   "id": "d09a6f8f-57da-457d-96a6-674cf8ae9ebc",
   "metadata": {},
   "outputs": [],
   "source": []
  },
  {
   "cell_type": "code",
   "execution_count": null,
   "id": "9dec44b8-2586-482d-a56e-79edea49b442",
   "metadata": {},
   "outputs": [],
   "source": [
    "def prep_pr_gufunc(p,year_start,year_end,decimals):\n",
    "    p=p.sel(time=slice(year_start,year_end)).round(decimals)\n",
    "    \n",
    "    p = p / 25.4\n",
    "    p_attrs = {'standard_name':'precipitation','long_name':'Precipitation, daily total','units':'inches/day'}\n",
    "    p.attrs = p_attrs\n",
    "    return p\n",
    "\n",
    "def prep_pr(x, y, dim):\n",
    "    return xr.apply_ufunc(\n",
    "        prep_pr_gufunc,\n",
    "        x,\n",
    "        y,\n",
    "        input_core_dims=[[dim], [dim]],\n",
    "        dask=\"parallelized\",\n",
    "        output_dtypes=[float],\n",
    "    )"
   ]
  },
  {
   "cell_type": "code",
   "execution_count": null,
   "id": "8de915cb-a9e6-4141-a49d-705c2dead7a1",
   "metadata": {},
   "outputs": [],
   "source": [
    "test=prep_pr(pr,'1951','1960',2).compute()\n",
    "test"
   ]
  },
  {
   "cell_type": "code",
   "execution_count": null,
   "id": "f6d1f758-e45c-4d4d-ac1f-90298a1fe56d",
   "metadata": {},
   "outputs": [],
   "source": [
    "# determine if the grid is land or water\n",
    "landmask= xr.where(np.isfinite(pr.mean('time')),1,0)\n",
    "landmask"
   ]
  },
  {
   "cell_type": "code",
   "execution_count": null,
   "id": "ea71ea4d-b7c6-4e25-9c61-715d61501112",
   "metadata": {},
   "outputs": [],
   "source": [
    "# # check that it worked\n",
    "# landmask.plot()"
   ]
  },
  {
   "cell_type": "code",
   "execution_count": null,
   "id": "54a2c571-82a6-4083-aaa6-59c3da900897",
   "metadata": {},
   "outputs": [],
   "source": [
    "# create an integer time index coordinate since datetimes will give us some trouble\n",
    "\n",
    "time_index=np.arange(0,len(pr.time)).astype('int')\n",
    "pr.coords['time_index']=('time',time_index)\n",
    "\n",
    "pr"
   ]
  },
  {
   "cell_type": "code",
   "execution_count": null,
   "id": "131bb3d6-cceb-48bf-a3c3-ea3d4e0a66b9",
   "metadata": {},
   "outputs": [],
   "source": [
    "# sum precip in 7 day rolling windows\n",
    "\n",
    "ndays=7\n",
    "pr_thresh=np.float32(8) # inches\n",
    "\n",
    "pr_weeksum=pr.rolling(time=ndays,min_periods=ndays,center=False).sum('time')\n",
    "# print(pr_weeksum[0:10].data)\n",
    "pr_weeksum"
   ]
  },
  {
   "cell_type": "code",
   "execution_count": null,
   "id": "11ccc1cd-8ca4-45ae-b3b8-4c18cb7ced01",
   "metadata": {},
   "outputs": [],
   "source": [
    "# # when is the first 7 day sum over the threshold\n",
    "# print(pr_weeksum[pr_weeksum>pr_thresh].isel(time=0).time.data)\n",
    "\n",
    "# # what is the max 7 day sum\n",
    "# print(pr_weeksum.max('time').item())\n",
    "\n",
    "# # how many times does the 7 day sum exceed 8\n",
    "# print((pr_weeksum>8).data.sum())"
   ]
  },
  {
   "cell_type": "code",
   "execution_count": null,
   "id": "20d5638e-6d4c-4e6a-b335-a4b68cf4c3a7",
   "metadata": {},
   "outputs": [],
   "source": [
    "# get the first index time where the weekly sum meets the threshold\n",
    "# this is index t-1 for the KBDI calc where we'll set it to 0\n",
    "\n",
    "# day_index = xr.where(pr_weeksum>pr_thresh,pr_weeksum.time_index,np.nan).min('time')\n",
    "# day_int = pr_weeksum[pr_weeksum>pr_thresh].isel(time=0).time_index.item()\n",
    "# day_int\n",
    "day_int = xr.where(pr_weeksum>pr_thresh,pr_weeksum.time_index,np.nan)#.min('time_index')\n",
    "day_int"
   ]
  },
  {
   "cell_type": "markdown",
   "id": "39447ca5-7ad0-401d-8ebd-a56a4574f6da",
   "metadata": {},
   "source": [
    "# 2) rr, number of consecutive days with rain"
   ]
  },
  {
   "cell_type": "code",
   "execution_count": null,
   "id": "28189b56-d1b0-47ea-a51f-3150968f59c8",
   "metadata": {},
   "outputs": [],
   "source": [
    "# 1/0 rain/no rain mask\n",
    "rainmask=xr.where(pr>0,1,0)\n",
    "rainmask"
   ]
  },
  {
   "cell_type": "code",
   "execution_count": null,
   "id": "704b0a4b-45b5-4db9-93bf-ac87a3d72c38",
   "metadata": {},
   "outputs": [],
   "source": [
    "# calculate number of consecutive rain days at each time step\n",
    "# I got this code to interrupt a cumulative sum here: https://stackoverflow.com/questions/61753567/convert-cumsum-output-to-binary-array-in-xarray\n",
    "\n",
    "rr=rainmask.cumsum()-rainmask.cumsum().where(rainmask == 0).ffill(dim='time').fillna(0)\n",
    "rr"
   ]
  },
  {
   "cell_type": "code",
   "execution_count": null,
   "id": "72401405-e60d-4b70-9028-a12cd183fdc2",
   "metadata": {},
   "outputs": [],
   "source": [
    "# let's see if it's really working\n",
    "fig=plt.figure(figsize=(15,2))\n",
    "plt.axhline(y=0,color='grey',ls='dashed')  # threshold guide line\n",
    "plt.ylim([-.25,4.25])\n",
    "# pr.sel(time=slice('1951-01-01','1951-01-31')).plot()\n",
    "# rr.sel(time=slice('1951-01-01','1951-01-31')).plot(marker='o',linewidth=0)\n",
    "pr.sel(time=slice('2024-01-01','2024-01-31')).plot()\n",
    "rr.sel(time=slice('2024-01-01','2024-01-31')).plot(marker='o',linewidth=0)"
   ]
  },
  {
   "cell_type": "markdown",
   "id": "63ab667c-1860-4628-bd71-6db4b27f676e",
   "metadata": {},
   "source": [
    "wow, ok it is working. blue line is daily precip, orange dots are the number of consecutive rain days.\n"
   ]
  },
  {
   "cell_type": "markdown",
   "id": "020602de-52ce-4442-b11a-25ee3b10363d",
   "metadata": {},
   "source": [
    "# 3) Pnet\n",
    "\n",
    "Approach based on Keetch & Byram 1968 description of Pnet calculation on their worksheet:\n",
    "\n",
    "1) Categorize days: consecutive rain days (2), single rain days (1), no rain days (0)\n",
    "2) Calculate Pnet on each day based on the category\n",
    "    - category 0 (no rain): pnet = 0\n",
    "    - category 1 (single rain day): pnet = max(pr - 0.2,0)  \n",
    "    - category 2 (consecutive rain day): loop through events of consecutive rainfall days and\n",
    "      \n",
    "            - accumulate rainfall totals over consecutive days\n",
    "            - on days before threshold is met (accumulated pr <= 0.2 inches): pnet = 0\n",
    "            - on the exact day when the threshold is met: pnet = accumulated pr - 0.2 inches\n",
    "            - on days after threshold is met: pnet = pr "
   ]
  },
  {
   "cell_type": "code",
   "execution_count": null,
   "id": "87964c44-f3c1-49c6-a1ce-f3646ae6055e",
   "metadata": {},
   "outputs": [],
   "source": [
    "# categorize rainfall days: consecutive rain days (2), single rain days (1), no rain days (0)\n",
    "\n",
    "# first swap out the time coordinate for the time_index\n",
    "rr_swap = rr.swap_dims({'time':'time_index'})\n",
    "\n",
    "# label all days that are at least the 3rd consecutive rainfall day with a 5\n",
    "cat=xr.where(rr_swap>=3,5,rr_swap)\n",
    "\n",
    "# find the indexes of all second consecutive rainfall days\n",
    "consec_day2 = np.argwhere(rr_swap.data==2).flatten()\n",
    "\n",
    "# find the indexes of all the first consecutive rainfall days\n",
    "consec_day1 = consec_day2-1\n",
    "\n",
    "# label all consecutive rainfall days with a 2 \n",
    "cat[consec_day2]=5 # first put a 5\n",
    "cat[consec_day1]=5 # first put a 5\n",
    "cat = xr.where(cat==5,2,cat) # convert to 2's\n",
    "\n",
    "# should be left with only 2's (consecutive rain days), 1's (single rain days), and 0's (no rain days)\n",
    "np.unique(cat)"
   ]
  },
  {
   "cell_type": "code",
   "execution_count": null,
   "id": "94aa19e8-f5b3-4e94-91f4-3d0b26c23624",
   "metadata": {},
   "outputs": [],
   "source": [
    "# Calc Pnet \n",
    "\n",
    "acc_thresh = 0.2 # inches\n",
    "\n",
    "# Category 0 (no rain days)\n",
    "# pnet will be zero where pr is zero\n",
    "pnet = pr.swap_dims({'time':'time_index'})\n",
    "\n",
    "# Category 1 (single rain days)\n",
    "pnet = xr.where(cat==1,pnet-acc_thresh,pnet)\n",
    "pnet = xr.where(pnet<0,0,pnet)\n",
    "pnet"
   ]
  },
  {
   "cell_type": "code",
   "execution_count": null,
   "id": "e1cfb6d3-1110-440e-9f84-b3e54c3a569e",
   "metadata": {},
   "outputs": [],
   "source": [
    "# Category 2 (consecutive rain days) \n",
    "\n",
    "consec_inds = cat[cat==2].time_index\n",
    "\n",
    "# initializations\n",
    "thresh_flag=False\n",
    "end_event=False\n",
    "accpr=0. \n",
    "\n",
    "# loop through days in each multi-day rain event\n",
    "for i,ind in enumerate(consec_inds):\n",
    "    \n",
    "    # accumulated precip per rain event\n",
    "    accpr=accpr+pr[ind].item() \n",
    "\n",
    "    # if not over the threshold yet, Pnet is 0\n",
    "    if accpr<=acc_thresh and not thresh_flag:\n",
    "        pnet[ind]=0\n",
    "        \n",
    "    # on the day the threshold is met, subtract the threshold amount and change flag    \n",
    "    elif accpr>acc_thresh and not thresh_flag:\n",
    "        accpr=accpr-acc_thresh # accumulate precip and subtract threshold\n",
    "        pnet[ind]=accpr\n",
    "        thresh_flag=True\n",
    "        \n",
    "    # any days after the threshold is met, precip will remain unchanged\n",
    "    else:\n",
    "        pnet[ind]=pr[ind].item()     \n",
    "\n",
    "    # reset accumulation and flag for the next consecutive rain event\n",
    "    if i != len(consec_inds)-1:\n",
    "        if (consec_inds[i+1] != consec_inds[i]+1): \n",
    "            accpr=0.\n",
    "            thresh_flag=False\n",
    "            \n",
    "pnet"
   ]
  },
  {
   "cell_type": "code",
   "execution_count": null,
   "id": "1ec4cc78-697f-4320-97c4-749101b315c5",
   "metadata": {},
   "outputs": [],
   "source": [
    "# compare pnet to pr to double check that everything worked correctly\n",
    "time = '2024-01'\n",
    "pnet.swap_dims({'time_index':'time'}).sel(time=time).plot(figsize=(20,2))\n",
    "pr.sel(time=time).plot()\n",
    "plt.axhline(acc_thresh,color='grey',ls='dashed')\n",
    "plt.show()"
   ]
  },
  {
   "cell_type": "markdown",
   "id": "224f6efa-c3f5-4ccf-b6a0-66dc6d371e1a",
   "metadata": {},
   "source": [
    "#### Looks correct"
   ]
  },
  {
   "cell_type": "markdown",
   "id": "fbd9c39f-2fd9-41ba-b326-f4b9235e3bb5",
   "metadata": {},
   "source": [
    "\n",
    "# 4) load tmax data and calc mean annual precip"
   ]
  },
  {
   "cell_type": "code",
   "execution_count": null,
   "id": "3f269296-ddfb-4101-8179-9237d7ae415e",
   "metadata": {},
   "outputs": [],
   "source": [
    "# load 5 years of data at a single grid, limit precision per metadata, and convert units\n",
    "\n",
    "tmax=xr.open_dataset(tmax_file).tmax.sel(time=slice(year_start,year_end)).sel(lat=lat,lon=lon, method='nearest').round(2).load()\n",
    "\n",
    "tmax = (tmax *9/5) + 32\n",
    "tmax_attrs = {'standard_name':'air_temperature','long_name':'Temperature, daily maximum','units':'F'}\n",
    "tmax.attrs = tmax_attrs\n",
    "\n",
    "tmax"
   ]
  },
  {
   "cell_type": "code",
   "execution_count": null,
   "id": "3ff48ce8-4a4f-4cd4-a5f1-e65ff236442d",
   "metadata": {},
   "outputs": [],
   "source": [
    "# mean annual precip (inches)\n",
    "mean_ann_pr = pr.groupby('time.year').sum(min_count=360).mean()\n",
    "mean_ann_pr"
   ]
  },
  {
   "cell_type": "markdown",
   "id": "1db4bae1-95b7-4a81-ba63-8c991d33e289",
   "metadata": {},
   "source": [
    "# 5) Calculate KBDI "
   ]
  },
  {
   "cell_type": "markdown",
   "id": "266d940b-e1c4-41fd-858c-d12fb181c760",
   "metadata": {},
   "source": [
    "## using inches and Fahrenheit\n",
    "\n",
    "$$\n",
    "KBDI_{t} = Q_{t} + \\frac{(800 - Q_{t}) (0.968 e^{0.0486 T_{t}} - 8.30) Δt}{1 + 10.88 e^{-0.0441 P}} * 1^{-3}\n",
    "$$\n",
    "\n",
    "where: \n",
    "\n",
    "$Q_{t}$ = $max(0, KBDI_{t-1}$ − $Pnet_{t} * 100)$ \n",
    "\n",
    "$Pnet_{t}$ is net precip (inches), real complicated see code above\n",
    "\n",
    "$T$ is daily maximum temperature (F)\n",
    "\n",
    "$Δt = 1$ (day)\n",
    "\n",
    "$P$ is long term mean annual precip (inches)\n",
    "\n",
    "and \n",
    "\n",
    "$KBDI_{t-1}$ is intialized to 0 at whatever time meets the wet condition criteria of 8 inches in a week, all times before that are nan\n"
   ]
  },
  {
   "cell_type": "code",
   "execution_count": null,
   "id": "3697e174-8b43-4853-8744-1e3de0bb94b2",
   "metadata": {},
   "outputs": [],
   "source": [
    "# KBDI initialization\n",
    "\n",
    "KBDI = np.full(pr.shape,np.nan) # set all to nan\n",
    "# dQ = KBDI.copy()\n",
    "Q = KBDI.copy()\n",
    "KBDI[day_int]=0   # set to 0 at saturation day t-1\n",
    "\n",
    "print(np.unique(KBDI))\n",
    "KBDI.shape"
   ]
  },
  {
   "cell_type": "code",
   "execution_count": null,
   "id": "10b08ac2-8ab4-4a4c-9a93-87442bca9632",
   "metadata": {},
   "outputs": [],
   "source": [
    "# KBDI calculation (inches, Fahrenheit)\n",
    "\n",
    "denominator = 1 + 10.88 * np.exp(-0.0441*mean_ann_pr)\n",
    "\n",
    "# # looping through time\n",
    "# for it in range(day_int+1,KBDI.shape[0]):\n",
    "#     Q[it] = max(0,KBDI[it-1] - pnet[it]*100)\n",
    "#     numerator = (800 - Q[it]) * (0.968 * np.exp(0.0486*tmax[it]) - 8.3)\n",
    "#     KBDI[it] = Q[it] + (numerator/denominator)*1E-3  \n",
    "#     del numerator\n",
    "\n",
    "# looping in time, save memory\n",
    "for it in range(day_int+1,KBDI.shape[0]):\n",
    "    Q = max(0,KBDI[it-1] - pnet[it]*100)\n",
    "    numerator = (800 - Q) * (0.968 * np.exp(0.0486*tmax[it]) - 8.3)\n",
    "    KBDI[it] = Q + (numerator/denominator)*1E-3  \n",
    "    del numerator,Q"
   ]
  },
  {
   "cell_type": "code",
   "execution_count": null,
   "id": "eb420e16-728c-4b9c-9385-b5bda9b24d41",
   "metadata": {},
   "outputs": [],
   "source": [
    "KBDI = xr.DataArray(KBDI, coords = {'time':('time',pr.time.data)})\n",
    "KBDI.coords['time_index'] = ('time',time_index)"
   ]
  },
  {
   "cell_type": "code",
   "execution_count": null,
   "id": "e30483f9-e0bb-476d-b462-1f1b9e93078a",
   "metadata": {},
   "outputs": [],
   "source": [
    "# convert to xarray object and plot\n",
    "\n",
    "KBDI.plot(figsize=(20,3))\n",
    "plt.axhline(200,color='lightgreen',ls='dashed')\n",
    "plt.axhline(400,color='gold',ls='dashed')\n",
    "plt.axhline(600,color='firebrick',ls='dashed')"
   ]
  },
  {
   "cell_type": "code",
   "execution_count": null,
   "id": "57710aa4-c370-4fa4-b18e-bb53c78611a8",
   "metadata": {},
   "outputs": [],
   "source": [
    "# # for debugging if needed\n",
    "# pnet = pnet.swap_dims({'time_index':'time'})\n",
    "# Q = xr.DataArray(Q, coords = {'time':('time',pr.time.data)})\n",
    "# Q.coords['time_index'] =('time',time_index)"
   ]
  },
  {
   "cell_type": "code",
   "execution_count": null,
   "id": "a8be206e-d44b-421c-b5ab-8c44a7b56f78",
   "metadata": {},
   "outputs": [],
   "source": [
    "# # for debugging if needed\n",
    "# time1='2024-01-20'\n",
    "# time2='2024-02-16'\n",
    "# ndays = pnet.sel(time=slice(time1,time2)).shape[0]\n",
    "\n",
    "# fig = plt.figure(figsize=(20,2))\n",
    "# plt.plot(Q.sel(time=slice(time1,time2)))               # orange\n",
    "# plt.plot(KBDI.sel(time=slice(time1,time2)))            # green\n",
    "# plt.title(\"KBDI = orange, Q = blue\")\n",
    "# plt.xlim(0,ndays)\n",
    "# plt.show()\n",
    "\n",
    "# fig = plt.figure(figsize=(20,2))\n",
    "# plt.bar(range(ndays),(pnet*100).sel(time=slice(time1,time2))) # blue\n",
    "# plt.plot(range(ndays),(pr*100).sel(time=slice(time1,time2)),color='orange',marker='o',lw=0) # blue\n",
    "# # plt.plot(tmax.sel(time=slice(time1,time2)))            # green\n",
    "# plt.title(\"bars = pnet, dots = pr\")\n",
    "# plt.xlim(0,ndays)\n",
    "# plt.show()\n",
    "\n",
    "# fig = plt.figure(figsize=(20,2))\n",
    "# plt.plot(tmax.sel(time=slice(time1,time2)))            # green\n",
    "# plt.title(\"tmax\")\n",
    "# plt.xlim(0,ndays)\n",
    "# plt.show()\n",
    "\n",
    "# print(pr.sel(time=slice(time1,time2)).data) # inches\n",
    "# print(pnet.sel(time=slice(time1,time2)).data) # inches\n",
    "# print(tmax.sel(time=slice(time1,time2)).data) # F\n",
    "# print(mean_ann_pr.item()) #inches"
   ]
  },
  {
   "attachments": {
    "c01870bc-42eb-4005-ab46-a54f387858fb.png": {
     "image/png": "[encoded data removed]"
    }
   },
   "cell_type": "markdown",
   "id": "95fb205b-1113-4796-9ce5-668fdff4a51a",
   "metadata": {},
   "source": [
    "# Compare against online info\n",
    "\n",
    "\n",
    "Using the current KBDI map from [Wildland Fire Assessment System](https://www.wfas.net/index.php?option=com_content&view=article&id=86&Itemid=487#:~:text=Keetch%20and%20Byram%20(1968)%20designed,duff%20and%20upper%20soil%20layers.) for today May 22, 2025, the KBDI is in the 201-300 range for this point. \n",
    "\n",
    "![image.png](attachment:c01870bc-42eb-4005-ab46-a54f387858fb.png)"
   ]
  },
  {
   "cell_type": "code",
   "execution_count": null,
   "id": "3ea25630-bd24-4e38-9d6d-191a72f4c91f",
   "metadata": {},
   "outputs": [],
   "source": [
    "KBDI.sel(time=(KBDI.time.dt.month==5)&(KBDI.time.dt.day==22))"
   ]
  },
  {
   "cell_type": "markdown",
   "id": "d099c324-4065-4f70-94a0-01bd7896b9fd",
   "metadata": {},
   "source": [
    "values look reasonable\n",
    "\n",
    "## A little more quantification\n",
    "\n",
    "What percent of the days fall into each category of KBDI?\n",
    "\n",
    "- KBDI = 0 - 200: Soil moisture and large class fuel moistures are high and do not contribute much to fire intensity. Typical of spring dormant season following winter precipitation.\n",
    "- KBDI = 200 - 400: Typical of late spring, early growing season. Lower litter and duff layers are drying and beginning to contribute to fire intensity.\n",
    "- KBDI = 400 - 600: Typical of late summer, early fall. Lower litter and duff layers actively contribute to fire intensity and will burn actively.\n",
    "- KBDI = 600 - 800: Often associated with more severe drought with increased wildfire occurrence. Intense, deep burning fires with significant downwind spotting can be expected. Live fuels can also be expected to burn actively at these levels."
   ]
  },
  {
   "cell_type": "code",
   "execution_count": null,
   "id": "c53ca259-6082-4661-8b85-141523dcfbe9",
   "metadata": {},
   "outputs": [],
   "source": [
    "# initialize\n",
    "KBDIcat = KBDI.copy()\n",
    "KBDIcat[:]=np.nan\n",
    "\n",
    "KBDIcat = xr.where(KBDI>=200,1,KBDIcat)\n",
    "KBDIcat = xr.where((201<=KBDI)&(KBDI<=400),2,KBDIcat)\n",
    "KBDIcat = xr.where((401<=KBDI)&(KBDI<=600),3,KBDIcat)\n",
    "KBDIcat = xr.where((601<=KBDI)&(KBDI<=800),4,KBDIcat)\n",
    "\n",
    "ndays = np.isfinite(KBDIcat).sum().item()\n",
    "\n",
    "for c in [1,2,3,4]:\n",
    "    percent_cat = round((KBDIcat==c).sum().item()/ndays*100,2)\n",
    "    print(f'{percent_cat}% of days in the timeseries are KBDI category {c}')"
   ]
  },
  {
   "cell_type": "markdown",
   "id": "0e27001d-1ab5-4c5d-bd5e-d6cb75c6331a",
   "metadata": {},
   "source": [
    "values look reasonable"
   ]
  },
  {
   "cell_type": "code",
   "execution_count": null,
   "id": "c5d522db-ee1a-437a-b9a3-a765ceb2cab6",
   "metadata": {},
   "outputs": [],
   "source": []
  }
 ],
 "metadata": {
  "kernelspec": {
   "display_name": "Python [conda env:KBDI]",
   "language": "python",
   "name": "conda-env-KBDI-py"
  },
  "language_info": {
   "codemirror_mode": {
    "name": "ipython",
    "version": 3
   },
   "file_extension": ".py",
   "mimetype": "text/x-python",
   "name": "python",
   "nbconvert_exporter": "python",
   "pygments_lexer": "ipython3",
   "version": "3.13.5"
  }
 },
 "nbformat": 4,
 "nbformat_minor": 5
}
