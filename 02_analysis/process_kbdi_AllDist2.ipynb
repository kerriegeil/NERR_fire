{
 "cells": [
  {
   "cell_type": "raw",
   "id": "56268fad-9c43-4dc0-88c7-fb213799bd12",
   "metadata": {},
   "source": [
    "Written By: K Geil\n",
    "Date: Jul 2025\n",
    "Description: Calculate Keetch-Byram Drought Index on daily data. Inputs pr, tmax and returns KBDI. Inputs netcdf files, returns one netcdf file per chunk."
   ]
  },
  {
   "cell_type": "markdown",
   "id": "0167f831-a7f8-4dc4-a212-b412ce94517b",
   "metadata": {},
   "source": [
    "# Setup"
   ]
  },
  {
   "cell_type": "code",
   "execution_count": null,
   "id": "ba8f423f-2a4c-405a-a389-b72f50afa3de",
   "metadata": {},
   "outputs": [],
   "source": [
    "import xarray as xr\n",
    "import numpy as np\n",
    "import pandas as pd\n",
    "\n",
    "import dask\n",
    "import dask.array as da\n",
    "from dask.distributed import Client,LocalCluster,progress,wait\n",
    "import glob\n",
    "\n",
    "import matplotlib.pyplot as plt\n",
    "\n",
    "import dask_config\n",
    "import kbdi_funcs as k_funcs"
   ]
  },
  {
   "cell_type": "code",
   "execution_count": null,
   "id": "3de46787-6e82-4fa6-ad50-7cdd4c06628d",
   "metadata": {},
   "outputs": [],
   "source": [
    "# pr_file = r'prcp_nClimGridDaily_1951-2024_USsouth.nc'\n",
    "# tmax_file = r'tmax_nClimGridDaily_1951-2024_USsouth.nc'\n",
    "pr_file = r'C://Users/kerrie/Documents/02_LocalData/nclimgrid_daily/prcp_nClimGridDaily_1951-2024_USsouth.nc'\n",
    "tmax_file = r'C://Users/kerrie/Documents/02_LocalData/nclimgrid_daily/tmax_nClimGridDaily_1951-2024_USsouth.nc'\n",
    "year_start='1951'\n",
    "year_end='2023'"
   ]
  },
  {
   "cell_type": "code",
   "execution_count": null,
   "id": "bb01f35d-7600-4882-a5b3-46242cd2beee",
   "metadata": {},
   "outputs": [],
   "source": [
    "# Interactive configuration\n",
    "# config = dask_config.auto_configure_processing(pr_file, tmax_file, year_start, year_end)\n",
    "\n",
    "# non-interactive config\n",
    "config = dask_config.quick_configure(pr_file, tmax_file, year_start, year_end)\n",
    "\n",
    "# grab config settings\n",
    "nworkers = config['nworkers']\n",
    "chunks = config['chunks']"
   ]
  },
  {
   "cell_type": "code",
   "execution_count": null,
   "id": "902d648c-f1d1-456b-bd5c-ced36fe7c8f7",
   "metadata": {},
   "outputs": [],
   "source": [
    "cluster=LocalCluster(n_workers=nworkers,threads_per_worker=1) # a cluster where each thread is a separate process or \"worker\"\n",
    "client=Client(cluster)  # connect to your compute cluster\n",
    "client.wait_for_workers(n_workers=nworkers,timeout=30) # wait up to 10s for the cluster to be fully ready, error if not ready in 10s\n",
    "client # print info"
   ]
  },
  {
   "cell_type": "markdown",
   "id": "37c625b6-92d2-48a8-b900-d87f30df54e6",
   "metadata": {},
   "source": [
    "# Begin Main Code"
   ]
  },
  {
   "cell_type": "code",
   "execution_count": null,
   "id": "e9a6b5e4-1ef8-4321-a856-94f5989a1167",
   "metadata": {},
   "outputs": [],
   "source": [
    "%%time\n",
    "pr = k_funcs.get_pr(pr_file,chunks,year_start,year_end)\n",
    "coord_list = k_funcs.get_chunk_info(pr)\n",
    "pr"
   ]
  },
  {
   "cell_type": "code",
   "execution_count": null,
   "id": "fd2fc8d0-54c1-4224-b52c-e5480f760364",
   "metadata": {},
   "outputs": [],
   "source": [
    "%%time\n",
    "tmax = k_funcs.get_tmax(tmax_file,chunks,year_start,year_end)\n",
    "tmax"
   ]
  },
  {
   "cell_type": "code",
   "execution_count": null,
   "id": "7850e36a-41c1-40d8-a32c-a68aef544522",
   "metadata": {},
   "outputs": [],
   "source": [
    "%%time\n",
    "\n",
    "pr_delayed = pr.data.to_delayed().ravel()\n",
    "tmax_delayed = tmax.data.to_delayed().ravel()\n",
    "zipvars = zip(pr_delayed,tmax_delayed,coord_list)\n",
    "\n",
    "task_list = [dask.delayed(k_funcs.calc_kbdi)(ID,p,t,coord) for ID,(p,t,coord) in enumerate(zipvars)]\n",
    "len(task_list)"
   ]
  },
  {
   "cell_type": "code",
   "execution_count": null,
   "id": "6c901a1d-fa8e-4b41-a9f0-a48dca0ac607",
   "metadata": {},
   "outputs": [],
   "source": [
    "%%time\n",
    "result = dask.compute(*task_list)"
   ]
  },
  {
   "cell_type": "code",
   "execution_count": null,
   "id": "9ef4a433-ef38-4b74-a3c7-6dd5f3e41ced",
   "metadata": {},
   "outputs": [],
   "source": [
    "files = glob.glob('output/kbdi_chunk_*.nc')\n",
    "test = xr.open_mfdataset(files)\n",
    "test.kbdi.isel(time=20000).plot()"
   ]
  },
  {
   "cell_type": "code",
   "execution_count": null,
   "id": "91fb1904-394c-4ca7-931b-2be9842b9ed9",
   "metadata": {},
   "outputs": [],
   "source": []
  }
 ],
 "metadata": {
  "kernelspec": {
   "display_name": "kbdi",
   "language": "python",
   "name": "kbdi"
  },
  "language_info": {
   "codemirror_mode": {
    "name": "ipython",
    "version": 3
   },
   "file_extension": ".py",
   "mimetype": "text/x-python",
   "name": "python",
   "nbconvert_exporter": "python",
   "pygments_lexer": "ipython3",
   "version": "3.13.5"
  }
 },
 "nbformat": 4,
 "nbformat_minor": 5
}
